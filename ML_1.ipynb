{
  "cells": [
    {
      "cell_type": "markdown",
      "metadata": {
        "id": "view-in-github",
        "colab_type": "text"
      },
      "source": [
        "<a href=\"https://colab.research.google.com/github/fuleabhijit/AI-Analyst-Chat/blob/main/ML_1.ipynb\" target=\"_parent\"><img src=\"https://colab.research.google.com/assets/colab-badge.svg\" alt=\"Open In Colab\"/></a>"
      ]
    },
    {
      "cell_type": "code",
      "execution_count": null,
      "id": "6c3cc801-ecca-4b05-b709-c6bdd860ad97",
      "metadata": {
        "id": "6c3cc801-ecca-4b05-b709-c6bdd860ad97"
      },
      "outputs": [],
      "source": [
        "import pandas as pd\n",
        "from scipy import stats"
      ]
    },
    {
      "cell_type": "code",
      "execution_count": null,
      "id": "aa5994c9-df2f-4e52-b877-95c8d54c8f7c",
      "metadata": {
        "id": "aa5994c9-df2f-4e52-b877-95c8d54c8f7c"
      },
      "outputs": [],
      "source": [
        "emp_data={\n",
        "    \"work_exp\":[1,2,3,4,5,6,7,8,9,10],\n",
        "    \"ctc\":[2,4,6,8,10,12,14,16,18,20]}"
      ]
    },
    {
      "cell_type": "code",
      "execution_count": null,
      "id": "641a503a-2701-4190-9810-5947a181b877",
      "metadata": {
        "id": "641a503a-2701-4190-9810-5947a181b877",
        "outputId": "43dbf677-0a77-421b-d734-2c458ff1d1a7"
      },
      "outputs": [
        {
          "data": {
            "text/html": [
              "<div>\n",
              "<style scoped>\n",
              "    .dataframe tbody tr th:only-of-type {\n",
              "        vertical-align: middle;\n",
              "    }\n",
              "\n",
              "    .dataframe tbody tr th {\n",
              "        vertical-align: top;\n",
              "    }\n",
              "\n",
              "    .dataframe thead th {\n",
              "        text-align: right;\n",
              "    }\n",
              "</style>\n",
              "<table border=\"1\" class=\"dataframe\">\n",
              "  <thead>\n",
              "    <tr style=\"text-align: right;\">\n",
              "      <th></th>\n",
              "      <th>work_exp</th>\n",
              "      <th>ctc</th>\n",
              "    </tr>\n",
              "  </thead>\n",
              "  <tbody>\n",
              "    <tr>\n",
              "      <th>0</th>\n",
              "      <td>1</td>\n",
              "      <td>2</td>\n",
              "    </tr>\n",
              "    <tr>\n",
              "      <th>1</th>\n",
              "      <td>2</td>\n",
              "      <td>4</td>\n",
              "    </tr>\n",
              "    <tr>\n",
              "      <th>2</th>\n",
              "      <td>3</td>\n",
              "      <td>6</td>\n",
              "    </tr>\n",
              "    <tr>\n",
              "      <th>3</th>\n",
              "      <td>4</td>\n",
              "      <td>8</td>\n",
              "    </tr>\n",
              "    <tr>\n",
              "      <th>4</th>\n",
              "      <td>5</td>\n",
              "      <td>10</td>\n",
              "    </tr>\n",
              "    <tr>\n",
              "      <th>5</th>\n",
              "      <td>6</td>\n",
              "      <td>12</td>\n",
              "    </tr>\n",
              "    <tr>\n",
              "      <th>6</th>\n",
              "      <td>7</td>\n",
              "      <td>14</td>\n",
              "    </tr>\n",
              "    <tr>\n",
              "      <th>7</th>\n",
              "      <td>8</td>\n",
              "      <td>16</td>\n",
              "    </tr>\n",
              "    <tr>\n",
              "      <th>8</th>\n",
              "      <td>9</td>\n",
              "      <td>18</td>\n",
              "    </tr>\n",
              "    <tr>\n",
              "      <th>9</th>\n",
              "      <td>10</td>\n",
              "      <td>20</td>\n",
              "    </tr>\n",
              "  </tbody>\n",
              "</table>\n",
              "</div>"
            ],
            "text/plain": [
              "   work_exp  ctc\n",
              "0         1    2\n",
              "1         2    4\n",
              "2         3    6\n",
              "3         4    8\n",
              "4         5   10\n",
              "5         6   12\n",
              "6         7   14\n",
              "7         8   16\n",
              "8         9   18\n",
              "9        10   20"
            ]
          },
          "execution_count": 20,
          "metadata": {},
          "output_type": "execute_result"
        }
      ],
      "source": [
        "df=pd.DataFrame(emp_data)\n",
        "df"
      ]
    },
    {
      "cell_type": "code",
      "execution_count": null,
      "id": "2c500e92-cfc0-4116-b942-d74ddae9efe9",
      "metadata": {
        "id": "2c500e92-cfc0-4116-b942-d74ddae9efe9"
      },
      "outputs": [],
      "source": [
        "x=df[\"work_exp\"]\n",
        "y=df[\"ctc\"]\n",
        "\n",
        "result=stats.linregress(x,y)"
      ]
    },
    {
      "cell_type": "code",
      "execution_count": null,
      "id": "17593611-353d-4ca2-ae7a-48dae0288ec8",
      "metadata": {
        "id": "17593611-353d-4ca2-ae7a-48dae0288ec8",
        "outputId": "043412bc-4326-4959-edf7-19510032a0ef"
      },
      "outputs": [
        {
          "data": {
            "text/plain": [
              "LinregressResult(slope=np.float64(2.0), intercept=np.float64(0.0), rvalue=np.float64(1.0), pvalue=np.float64(4.375000000000076e-80), stderr=np.float64(0.0), intercept_stderr=np.float64(0.0))"
            ]
          },
          "execution_count": 22,
          "metadata": {},
          "output_type": "execute_result"
        }
      ],
      "source": [
        "result"
      ]
    },
    {
      "cell_type": "code",
      "execution_count": null,
      "id": "ee5818b0-435c-46c8-9271-50ccbb9b81e8",
      "metadata": {
        "id": "ee5818b0-435c-46c8-9271-50ccbb9b81e8"
      },
      "outputs": [],
      "source": [
        "m=result.slope\n",
        "c=result.intercept\n",
        "\n",
        "def predicted_ctc(x,m,c):\n",
        "    y=m*x+c\n",
        "    return y\n"
      ]
    },
    {
      "cell_type": "code",
      "execution_count": null,
      "id": "55a2c32f-5a95-4161-8453-50146d3f88e7",
      "metadata": {
        "id": "55a2c32f-5a95-4161-8453-50146d3f88e7",
        "outputId": "8544468d-11cb-4f1e-c062-dff8ff251ff7"
      },
      "outputs": [
        {
          "name": "stdin",
          "output_type": "stream",
          "text": [
            "Enter Number of Expierence:  12\n"
          ]
        },
        {
          "data": {
            "text/plain": [
              "np.float64(24.0)"
            ]
          },
          "execution_count": 27,
          "metadata": {},
          "output_type": "execute_result"
        }
      ],
      "source": [
        "exp=int(input(\"Enter Number of Expierence: \"))\n",
        "predicted_ctc(exp,m,c)"
      ]
    },
    {
      "cell_type": "code",
      "execution_count": null,
      "id": "8f7f79af-bd56-41c9-8160-c09e19f8d384",
      "metadata": {
        "id": "8f7f79af-bd56-41c9-8160-c09e19f8d384"
      },
      "outputs": [],
      "source": []
    }
  ],
  "metadata": {
    "kernelspec": {
      "display_name": "Python [conda env:base] *",
      "language": "python",
      "name": "conda-base-py"
    },
    "language_info": {
      "codemirror_mode": {
        "name": "ipython",
        "version": 3
      },
      "file_extension": ".py",
      "mimetype": "text/x-python",
      "name": "python",
      "nbconvert_exporter": "python",
      "pygments_lexer": "ipython3",
      "version": "3.13.5"
    },
    "colab": {
      "provenance": [],
      "include_colab_link": true
    }
  },
  "nbformat": 4,
  "nbformat_minor": 5
}