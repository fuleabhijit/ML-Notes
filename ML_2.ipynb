{
  "cells": [
    {
      "cell_type": "markdown",
      "metadata": {
        "id": "view-in-github",
        "colab_type": "text"
      },
      "source": [
        "<a href=\"https://colab.research.google.com/github/fuleabhijit/AI-Analyst-Chat/blob/main/ML_2.ipynb\" target=\"_parent\"><img src=\"https://colab.research.google.com/assets/colab-badge.svg\" alt=\"Open In Colab\"/></a>"
      ]
    },
    {
      "cell_type": "markdown",
      "id": "59acfbb6-e8f1-4997-a67b-231cc3271074",
      "metadata": {
        "id": "59acfbb6-e8f1-4997-a67b-231cc3271074"
      },
      "source": [
        "### 1.Download important Libraries"
      ]
    },
    {
      "cell_type": "code",
      "execution_count": null,
      "id": "eda9aa87-9511-4fb7-95da-a62467aec3fd",
      "metadata": {
        "id": "eda9aa87-9511-4fb7-95da-a62467aec3fd"
      },
      "outputs": [],
      "source": [
        "import pandas as pd\n",
        "from sklearn.linear_model import LinearRegression\n",
        "import numpy as np"
      ]
    },
    {
      "cell_type": "markdown",
      "id": "18615862-fe69-4b93-8514-43dd844eadf3",
      "metadata": {
        "id": "18615862-fe69-4b93-8514-43dd844eadf3"
      },
      "source": [
        "## 2. Read Dataset/"
      ]
    },
    {
      "cell_type": "code",
      "execution_count": null,
      "id": "e1d29141-1a8f-4293-b6a6-6028d28b1cfb",
      "metadata": {
        "id": "e1d29141-1a8f-4293-b6a6-6028d28b1cfb"
      },
      "outputs": [],
      "source": [
        "df=pd.read_csv(\"/Users/prayagadage/Desktop/Python_By_CJC/DATA_SCIENCE_CJC/Machine_Learning/Dataset/house_price_dataset_clean.csv\")"
      ]
    },
    {
      "cell_type": "code",
      "execution_count": null,
      "id": "1b8721c3-9e74-49c6-b5c4-48fd288fef56",
      "metadata": {
        "id": "1b8721c3-9e74-49c6-b5c4-48fd288fef56",
        "outputId": "34600bba-db72-4c76-b623-3f20dac13f0e"
      },
      "outputs": [
        {
          "data": {
            "text/html": [
              "<div>\n",
              "<style scoped>\n",
              "    .dataframe tbody tr th:only-of-type {\n",
              "        vertical-align: middle;\n",
              "    }\n",
              "\n",
              "    .dataframe tbody tr th {\n",
              "        vertical-align: top;\n",
              "    }\n",
              "\n",
              "    .dataframe thead th {\n",
              "        text-align: right;\n",
              "    }\n",
              "</style>\n",
              "<table border=\"1\" class=\"dataframe\">\n",
              "  <thead>\n",
              "    <tr style=\"text-align: right;\">\n",
              "      <th></th>\n",
              "      <th>Size (sq. ft.)</th>\n",
              "      <th>Bedrooms</th>\n",
              "      <th>Bathrooms</th>\n",
              "      <th>Age of House (Years)</th>\n",
              "      <th>Distance to City Center (Miles)</th>\n",
              "      <th>Price</th>\n",
              "    </tr>\n",
              "  </thead>\n",
              "  <tbody>\n",
              "    <tr>\n",
              "      <th>0</th>\n",
              "      <td>2247.976523</td>\n",
              "      <td>4</td>\n",
              "      <td>4</td>\n",
              "      <td>10</td>\n",
              "      <td>18.061996</td>\n",
              "      <td>3.077421e+06</td>\n",
              "    </tr>\n",
              "    <tr>\n",
              "      <th>1</th>\n",
              "      <td>4783.142948</td>\n",
              "      <td>2</td>\n",
              "      <td>3</td>\n",
              "      <td>27</td>\n",
              "      <td>16.928083</td>\n",
              "      <td>3.482683e+06</td>\n",
              "    </tr>\n",
              "    <tr>\n",
              "      <th>2</th>\n",
              "      <td>3820.773344</td>\n",
              "      <td>5</td>\n",
              "      <td>3</td>\n",
              "      <td>4</td>\n",
              "      <td>17.874385</td>\n",
              "      <td>3.997572e+06</td>\n",
              "    </tr>\n",
              "    <tr>\n",
              "      <th>3</th>\n",
              "      <td>3234.097330</td>\n",
              "      <td>3</td>\n",
              "      <td>1</td>\n",
              "      <td>11</td>\n",
              "      <td>0.214683</td>\n",
              "      <td>3.022428e+06</td>\n",
              "    </tr>\n",
              "    <tr>\n",
              "      <th>4</th>\n",
              "      <td>1286.482018</td>\n",
              "      <td>3</td>\n",
              "      <td>2</td>\n",
              "      <td>2</td>\n",
              "      <td>14.863879</td>\n",
              "      <td>2.000636e+06</td>\n",
              "    </tr>\n",
              "    <tr>\n",
              "      <th>...</th>\n",
              "      <td>...</td>\n",
              "      <td>...</td>\n",
              "      <td>...</td>\n",
              "      <td>...</td>\n",
              "      <td>...</td>\n",
              "      <td>...</td>\n",
              "    </tr>\n",
              "    <tr>\n",
              "      <th>9995</th>\n",
              "      <td>4373.686348</td>\n",
              "      <td>5</td>\n",
              "      <td>1</td>\n",
              "      <td>1</td>\n",
              "      <td>11.890596</td>\n",
              "      <td>4.008704e+06</td>\n",
              "    </tr>\n",
              "    <tr>\n",
              "      <th>9996</th>\n",
              "      <td>4549.038874</td>\n",
              "      <td>1</td>\n",
              "      <td>3</td>\n",
              "      <td>40</td>\n",
              "      <td>14.885911</td>\n",
              "      <td>3.041474e+06</td>\n",
              "    </tr>\n",
              "    <tr>\n",
              "      <th>9997</th>\n",
              "      <td>4765.514826</td>\n",
              "      <td>1</td>\n",
              "      <td>3</td>\n",
              "      <td>21</td>\n",
              "      <td>17.199960</td>\n",
              "      <td>3.198431e+06</td>\n",
              "    </tr>\n",
              "    <tr>\n",
              "      <th>9998</th>\n",
              "      <td>2348.947167</td>\n",
              "      <td>2</td>\n",
              "      <td>1</td>\n",
              "      <td>8</td>\n",
              "      <td>7.219266</td>\n",
              "      <td>2.154761e+06</td>\n",
              "    </tr>\n",
              "    <tr>\n",
              "      <th>9999</th>\n",
              "      <td>1555.417778</td>\n",
              "      <td>5</td>\n",
              "      <td>1</td>\n",
              "      <td>13</td>\n",
              "      <td>13.250556</td>\n",
              "      <td>2.512371e+06</td>\n",
              "    </tr>\n",
              "  </tbody>\n",
              "</table>\n",
              "<p>10000 rows × 6 columns</p>\n",
              "</div>"
            ],
            "text/plain": [
              "      Size (sq. ft.)  Bedrooms  Bathrooms  Age of House (Years)  \\\n",
              "0        2247.976523         4          4                    10   \n",
              "1        4783.142948         2          3                    27   \n",
              "2        3820.773344         5          3                     4   \n",
              "3        3234.097330         3          1                    11   \n",
              "4        1286.482018         3          2                     2   \n",
              "...              ...       ...        ...                   ...   \n",
              "9995     4373.686348         5          1                     1   \n",
              "9996     4549.038874         1          3                    40   \n",
              "9997     4765.514826         1          3                    21   \n",
              "9998     2348.947167         2          1                     8   \n",
              "9999     1555.417778         5          1                    13   \n",
              "\n",
              "      Distance to City Center (Miles)         Price  \n",
              "0                           18.061996  3.077421e+06  \n",
              "1                           16.928083  3.482683e+06  \n",
              "2                           17.874385  3.997572e+06  \n",
              "3                            0.214683  3.022428e+06  \n",
              "4                           14.863879  2.000636e+06  \n",
              "...                               ...           ...  \n",
              "9995                        11.890596  4.008704e+06  \n",
              "9996                        14.885911  3.041474e+06  \n",
              "9997                        17.199960  3.198431e+06  \n",
              "9998                         7.219266  2.154761e+06  \n",
              "9999                        13.250556  2.512371e+06  \n",
              "\n",
              "[10000 rows x 6 columns]"
            ]
          },
          "execution_count": 3,
          "metadata": {},
          "output_type": "execute_result"
        }
      ],
      "source": [
        "df"
      ]
    },
    {
      "cell_type": "markdown",
      "id": "18817c2a-5ffa-4463-a769-1f7b398d39bc",
      "metadata": {
        "id": "18817c2a-5ffa-4463-a769-1f7b398d39bc"
      },
      "source": [
        "## 3. Extract X,Y"
      ]
    },
    {
      "cell_type": "code",
      "execution_count": null,
      "id": "11643931-f733-43cd-9345-2c049ef64547",
      "metadata": {
        "id": "11643931-f733-43cd-9345-2c049ef64547"
      },
      "outputs": [],
      "source": [
        "Y=df[\"Price\"]\n",
        "X=df[[\"Size (sq. ft.)\",\"Bedrooms\",\"Bathrooms\",\"Age of House (Years)\",\"Distance to City Center (Miles)\"]]"
      ]
    },
    {
      "cell_type": "code",
      "execution_count": null,
      "id": "b8eb6bfa-2a0d-4839-8264-1fa21a7cc3d1",
      "metadata": {
        "id": "b8eb6bfa-2a0d-4839-8264-1fa21a7cc3d1",
        "outputId": "71906c2d-da03-40f5-84b2-586a85d0ac35"
      },
      "outputs": [
        {
          "data": {
            "text/html": [
              "<div>\n",
              "<style scoped>\n",
              "    .dataframe tbody tr th:only-of-type {\n",
              "        vertical-align: middle;\n",
              "    }\n",
              "\n",
              "    .dataframe tbody tr th {\n",
              "        vertical-align: top;\n",
              "    }\n",
              "\n",
              "    .dataframe thead th {\n",
              "        text-align: right;\n",
              "    }\n",
              "</style>\n",
              "<table border=\"1\" class=\"dataframe\">\n",
              "  <thead>\n",
              "    <tr style=\"text-align: right;\">\n",
              "      <th></th>\n",
              "      <th>Size (sq. ft.)</th>\n",
              "      <th>Bedrooms</th>\n",
              "      <th>Bathrooms</th>\n",
              "      <th>Age of House (Years)</th>\n",
              "      <th>Distance to City Center (Miles)</th>\n",
              "    </tr>\n",
              "  </thead>\n",
              "  <tbody>\n",
              "    <tr>\n",
              "      <th>0</th>\n",
              "      <td>2247.976523</td>\n",
              "      <td>4</td>\n",
              "      <td>4</td>\n",
              "      <td>10</td>\n",
              "      <td>18.061996</td>\n",
              "    </tr>\n",
              "    <tr>\n",
              "      <th>1</th>\n",
              "      <td>4783.142948</td>\n",
              "      <td>2</td>\n",
              "      <td>3</td>\n",
              "      <td>27</td>\n",
              "      <td>16.928083</td>\n",
              "    </tr>\n",
              "    <tr>\n",
              "      <th>2</th>\n",
              "      <td>3820.773344</td>\n",
              "      <td>5</td>\n",
              "      <td>3</td>\n",
              "      <td>4</td>\n",
              "      <td>17.874385</td>\n",
              "    </tr>\n",
              "    <tr>\n",
              "      <th>3</th>\n",
              "      <td>3234.097330</td>\n",
              "      <td>3</td>\n",
              "      <td>1</td>\n",
              "      <td>11</td>\n",
              "      <td>0.214683</td>\n",
              "    </tr>\n",
              "    <tr>\n",
              "      <th>4</th>\n",
              "      <td>1286.482018</td>\n",
              "      <td>3</td>\n",
              "      <td>2</td>\n",
              "      <td>2</td>\n",
              "      <td>14.863879</td>\n",
              "    </tr>\n",
              "    <tr>\n",
              "      <th>...</th>\n",
              "      <td>...</td>\n",
              "      <td>...</td>\n",
              "      <td>...</td>\n",
              "      <td>...</td>\n",
              "      <td>...</td>\n",
              "    </tr>\n",
              "    <tr>\n",
              "      <th>9995</th>\n",
              "      <td>4373.686348</td>\n",
              "      <td>5</td>\n",
              "      <td>1</td>\n",
              "      <td>1</td>\n",
              "      <td>11.890596</td>\n",
              "    </tr>\n",
              "    <tr>\n",
              "      <th>9996</th>\n",
              "      <td>4549.038874</td>\n",
              "      <td>1</td>\n",
              "      <td>3</td>\n",
              "      <td>40</td>\n",
              "      <td>14.885911</td>\n",
              "    </tr>\n",
              "    <tr>\n",
              "      <th>9997</th>\n",
              "      <td>4765.514826</td>\n",
              "      <td>1</td>\n",
              "      <td>3</td>\n",
              "      <td>21</td>\n",
              "      <td>17.199960</td>\n",
              "    </tr>\n",
              "    <tr>\n",
              "      <th>9998</th>\n",
              "      <td>2348.947167</td>\n",
              "      <td>2</td>\n",
              "      <td>1</td>\n",
              "      <td>8</td>\n",
              "      <td>7.219266</td>\n",
              "    </tr>\n",
              "    <tr>\n",
              "      <th>9999</th>\n",
              "      <td>1555.417778</td>\n",
              "      <td>5</td>\n",
              "      <td>1</td>\n",
              "      <td>13</td>\n",
              "      <td>13.250556</td>\n",
              "    </tr>\n",
              "  </tbody>\n",
              "</table>\n",
              "<p>10000 rows × 5 columns</p>\n",
              "</div>"
            ],
            "text/plain": [
              "      Size (sq. ft.)  Bedrooms  Bathrooms  Age of House (Years)  \\\n",
              "0        2247.976523         4          4                    10   \n",
              "1        4783.142948         2          3                    27   \n",
              "2        3820.773344         5          3                     4   \n",
              "3        3234.097330         3          1                    11   \n",
              "4        1286.482018         3          2                     2   \n",
              "...              ...       ...        ...                   ...   \n",
              "9995     4373.686348         5          1                     1   \n",
              "9996     4549.038874         1          3                    40   \n",
              "9997     4765.514826         1          3                    21   \n",
              "9998     2348.947167         2          1                     8   \n",
              "9999     1555.417778         5          1                    13   \n",
              "\n",
              "      Distance to City Center (Miles)  \n",
              "0                           18.061996  \n",
              "1                           16.928083  \n",
              "2                           17.874385  \n",
              "3                            0.214683  \n",
              "4                           14.863879  \n",
              "...                               ...  \n",
              "9995                        11.890596  \n",
              "9996                        14.885911  \n",
              "9997                        17.199960  \n",
              "9998                         7.219266  \n",
              "9999                        13.250556  \n",
              "\n",
              "[10000 rows x 5 columns]"
            ]
          },
          "execution_count": 9,
          "metadata": {},
          "output_type": "execute_result"
        }
      ],
      "source": [
        "X"
      ]
    },
    {
      "cell_type": "markdown",
      "id": "8e648fa0-d9f2-4075-a33f-1a773e5d98d0",
      "metadata": {
        "id": "8e648fa0-d9f2-4075-a33f-1a773e5d98d0"
      },
      "source": [
        "## 4. Create Model"
      ]
    },
    {
      "cell_type": "code",
      "execution_count": null,
      "id": "c6f1998f-6ae2-472a-a14c-6b31f995717f",
      "metadata": {
        "id": "c6f1998f-6ae2-472a-a14c-6b31f995717f"
      },
      "outputs": [],
      "source": [
        "lm=LinearRegression()"
      ]
    },
    {
      "cell_type": "markdown",
      "id": "7997a513-f23c-4663-b90f-2388eab7e90f",
      "metadata": {
        "id": "7997a513-f23c-4663-b90f-2388eab7e90f"
      },
      "source": [
        "## 5.Train on the dataset"
      ]
    },
    {
      "cell_type": "code",
      "execution_count": null,
      "id": "4f35468b-414e-4caf-b305-d6af5cd0b1d0",
      "metadata": {
        "id": "4f35468b-414e-4caf-b305-d6af5cd0b1d0"
      },
      "outputs": [],
      "source": [
        "lm.fit(X,Y)"
      ]
    },
    {
      "cell_type": "markdown",
      "id": "4781c8e0-c57b-4000-af39-dae3669a3e5d",
      "metadata": {
        "id": "4781c8e0-c57b-4000-af39-dae3669a3e5d"
      },
      "source": [
        "## 6. Make Prediction"
      ]
    },
    {
      "cell_type": "code",
      "execution_count": null,
      "id": "31cd1fa7-e39c-43bc-84e4-b67c2bdb077a",
      "metadata": {
        "id": "31cd1fa7-e39c-43bc-84e4-b67c2bdb077a",
        "outputId": "bc297490-f7b7-4d9f-82d2-4649b1bcfebe"
      },
      "outputs": [
        {
          "name": "stderr",
          "output_type": "stream",
          "text": [
            "/opt/anaconda3/lib/python3.13/site-packages/sklearn/utils/validation.py:2739: UserWarning: X does not have valid feature names, but LinearRegression was fitted with feature names\n",
            "  warnings.warn(\n"
          ]
        }
      ],
      "source": [
        "predicted=lm.predict([[2200,4,3,22,14.863879]])"
      ]
    },
    {
      "cell_type": "code",
      "execution_count": null,
      "id": "48a1c48e-0b5b-4c08-a558-6d04e5544b7c",
      "metadata": {
        "id": "48a1c48e-0b5b-4c08-a558-6d04e5544b7c",
        "outputId": "f853ab84-194a-4c10-c2a6-12c67c8f7e34"
      },
      "outputs": [
        {
          "data": {
            "text/plain": [
              "array([2857395.34])"
            ]
          },
          "execution_count": 20,
          "metadata": {},
          "output_type": "execute_result"
        }
      ],
      "source": [
        "np.round(predicted,2)"
      ]
    },
    {
      "cell_type": "code",
      "execution_count": null,
      "id": "2b947040-1779-4934-8257-108fef200098",
      "metadata": {
        "id": "2b947040-1779-4934-8257-108fef200098",
        "outputId": "0cb66e50-67ec-4f84-f5b3-c06bccc36be7"
      },
      "outputs": [
        {
          "data": {
            "text/html": [
              "<div>\n",
              "<style scoped>\n",
              "    .dataframe tbody tr th:only-of-type {\n",
              "        vertical-align: middle;\n",
              "    }\n",
              "\n",
              "    .dataframe tbody tr th {\n",
              "        vertical-align: top;\n",
              "    }\n",
              "\n",
              "    .dataframe thead th {\n",
              "        text-align: right;\n",
              "    }\n",
              "</style>\n",
              "<table border=\"1\" class=\"dataframe\">\n",
              "  <thead>\n",
              "    <tr style=\"text-align: right;\">\n",
              "      <th></th>\n",
              "      <th>Size (sq. ft.)</th>\n",
              "      <th>Bedrooms</th>\n",
              "      <th>Bathrooms</th>\n",
              "      <th>Age of House (Years)</th>\n",
              "      <th>Distance to City Center (Miles)</th>\n",
              "      <th>Price</th>\n",
              "    </tr>\n",
              "  </thead>\n",
              "  <tbody>\n",
              "    <tr>\n",
              "      <th>405</th>\n",
              "      <td>4540.302205</td>\n",
              "      <td>4</td>\n",
              "      <td>2</td>\n",
              "      <td>17</td>\n",
              "      <td>0.894075</td>\n",
              "      <td>4.131943e+06</td>\n",
              "    </tr>\n",
              "  </tbody>\n",
              "</table>\n",
              "</div>"
            ],
            "text/plain": [
              "     Size (sq. ft.)  Bedrooms  Bathrooms  Age of House (Years)  \\\n",
              "405     4540.302205         4          2                    17   \n",
              "\n",
              "     Distance to City Center (Miles)         Price  \n",
              "405                         0.894075  4.131943e+06  "
            ]
          },
          "execution_count": 21,
          "metadata": {},
          "output_type": "execute_result"
        }
      ],
      "source": [
        "df.sample()"
      ]
    },
    {
      "cell_type": "code",
      "execution_count": null,
      "id": "c6ccf7da-8561-42d4-8def-9963c6ad1fdc",
      "metadata": {
        "id": "c6ccf7da-8561-42d4-8def-9963c6ad1fdc"
      },
      "outputs": [],
      "source": []
    }
  ],
  "metadata": {
    "kernelspec": {
      "display_name": "Python [conda env:base] *",
      "language": "python",
      "name": "conda-base-py"
    },
    "language_info": {
      "codemirror_mode": {
        "name": "ipython",
        "version": 3
      },
      "file_extension": ".py",
      "mimetype": "text/x-python",
      "name": "python",
      "nbconvert_exporter": "python",
      "pygments_lexer": "ipython3",
      "version": "3.13.5"
    },
    "colab": {
      "provenance": [],
      "include_colab_link": true
    }
  },
  "nbformat": 4,
  "nbformat_minor": 5
}